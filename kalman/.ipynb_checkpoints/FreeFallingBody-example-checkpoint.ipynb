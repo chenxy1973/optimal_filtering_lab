{
 "cells": [
  {
   "cell_type": "markdown",
   "metadata": {},
   "source": [
    "Reference:\n",
    "    \n",
    "    [1] mem640Lecture-Estimation.pdf"
   ]
  },
  {
   "cell_type": "code",
   "execution_count": null,
   "metadata": {},
   "outputs": [],
   "source": [
    "import numpy as np\n",
    "import matplotlib.pyplot as plt"
   ]
  },
  {
   "cell_type": "code",
   "execution_count": null,
   "metadata": {},
   "outputs": [],
   "source": [
    "t    = np.arange(1,20)\n",
    "#y    = np.array([8.49, 20.05, 50.65, 72.19, 129.85, 171.56])\n",
    "g_theory  = 9.8\n",
    "mu, sigma = 0, 10 # mean and standard deviation\n",
    "s = np.random.normal(mu, sigma, len(t))\n",
    "y = g_theory * (t * t)/2 + s # s represents measurement noise."
   ]
  },
  {
   "cell_type": "code",
   "execution_count": null,
   "metadata": {},
   "outputs": [],
   "source": [
    "print(t)\n",
    "print(y)"
   ]
  },
  {
   "cell_type": "markdown",
   "metadata": {},
   "source": [
    "# The first approach: naive averaging\n",
    "\n",
    "One approach: Calculate acceleration for each time instant and take average"
   ]
  },
  {
   "cell_type": "code",
   "execution_count": null,
   "metadata": {},
   "outputs": [],
   "source": [
    "g = 2 * y / (t * t)\n",
    "g_mean = np.mean(g)"
   ]
  },
  {
   "cell_type": "code",
   "execution_count": null,
   "metadata": {},
   "outputs": [],
   "source": [
    "print(g, g_mean)"
   ]
  },
  {
   "cell_type": "markdown",
   "metadata": {},
   "source": [
    "# The second approach – recast as a least squares problem\n",
    "\n",
    "As shown below, Least squares estimate of gravitational constant is quite good.\n"
   ]
  },
  {
   "cell_type": "code",
   "execution_count": null,
   "metadata": {},
   "outputs": [],
   "source": [
    "phi = t * t / 2\n",
    "print(phi.shape)\n",
    "phi = np.reshape(phi, (len(phi),1))\n",
    "print(phi.shape)\n",
    "print(phi.T)\n"
   ]
  },
  {
   "cell_type": "code",
   "execution_count": null,
   "metadata": {},
   "outputs": [],
   "source": [
    "phi_cov = phi.T @ phi\n",
    "print(phi_cov.shape)\n",
    "print(phi_cov)"
   ]
  },
  {
   "cell_type": "code",
   "execution_count": null,
   "metadata": {},
   "outputs": [],
   "source": [
    "g_esti2 = (1/phi_cov) @ phi.T @ y\n",
    "print(g_esti2)"
   ]
  },
  {
   "cell_type": "markdown",
   "metadata": {},
   "source": [
    "# An extension to free falling body problem.\n",
    "\n",
    "Assuming y = a2 \\* x^2 + a1 \\* x + a0\n",
    "\n",
    "With measurment result y, estimate A = {a2, a1, a0}\n"
   ]
  },
  {
   "cell_type": "code",
   "execution_count": null,
   "metadata": {},
   "outputs": [],
   "source": [
    "a2    = 1.52\n",
    "a1    = 2.33\n",
    "a0    = 7.49\n",
    "\n",
    "x    = np.arange(1,20)\n",
    "mu, sigma = 0, 5 # mean and standard deviation\n",
    "s = np.random.normal(mu, sigma, len(t))\n",
    "y    = a2 * (x * x) + a1 * x + a0 + s"
   ]
  },
  {
   "cell_type": "code",
   "execution_count": null,
   "metadata": {},
   "outputs": [],
   "source": [
    "#print(x)\n",
    "phi_col0 = np.reshape((x*x).T, (len(x), 1))\n",
    "phi_col1 = np.reshape(x.T, (len(x), 1))\n",
    "phi_col2 = np.ones((len(x), 1))\n",
    "phi = np.concatenate( ( phi_col0, phi_col1, phi_col2 ), axis = 1)\n",
    "#print(phi_col0)\n",
    "print(phi.shape)\n",
    "\n",
    "phi_cov = phi.T @ phi\n",
    "phi_cov_inv = np.linalg.inv(phi_cov)\n",
    "print(phi_cov.shape, phi_cov_inv.shape, (phi.T).shape, y.shape)\n",
    "\n",
    "para_esti = (phi_cov_inv) @ phi.T @ np.reshape(y,(len(y),1))\n",
    "\n",
    "print(para_esti)"
   ]
  },
  {
   "cell_type": "code",
   "execution_count": null,
   "metadata": {},
   "outputs": [],
   "source": [
    "print(y)\n",
    "plt.scatter(x,y)\n",
    "plt.plot(x,phi@para_esti)\n",
    "plt.show()"
   ]
  },
  {
   "cell_type": "code",
   "execution_count": null,
   "metadata": {},
   "outputs": [],
   "source": [
    "#print(phi)\n",
    "print(phi_cov)\n",
    "print(phi_cov_inv)\n",
    "print(phi_cov_inv @ phi_cov)\n",
    "#np.testing.assert_allclose(phi_cov_inv @ phi_cov, np.eye(phi_cov.shape[0])) ## Why does this assert fails?\n",
    "np.testing.assert_allclose(np.eye(phi_cov.shape[0]), phi_cov_inv @ phi_cov) ## Why does this assert fails?"
   ]
  },
  {
   "cell_type": "markdown",
   "metadata": {},
   "source": [
    "# The third approach -- use recursion to update \n",
    "\n",
    "Least squares looks very good – but consider the following:\n",
    "\n",
    "Q1. What if all data is not immediately available?\n",
    "\n",
    "Q2. What if the sensor is noisy?\n",
    "\n",
    "Q3. What if the state model is questionable?\n",
    "\n",
    "以下仍然先回到自由落体运动问题。。。"
   ]
  },
  {
   "cell_type": "code",
   "execution_count": null,
   "metadata": {},
   "outputs": [],
   "source": [
    "t    = np.arange(1,20)\n",
    "#y    = np.array([8.49, 20.05, 50.65, 72.19, 129.85, 171.56])\n",
    "g_theory = 9.8\n",
    "mu, sigma = 0, 10 # mean and standard deviation\n",
    "s = np.random.normal(mu, sigma, len(t))\n",
    "y    = g_theory * (t * t)/2 + s\n",
    "\n",
    "phi = t * t / 2\n",
    "K   = np.zeros((len(t),))\n",
    "P   = np.zeros((len(t),))\n",
    "g   = np.zeros((len(t),))\n",
    "err = np.zeros((len(t),))\n",
    "g[0] = y[1]\n",
    "P[0] = 1"
   ]
  },
  {
   "cell_type": "markdown",
   "metadata": {},
   "source": [
    "待估计参数以迭代的方式基于估计误差逐步更新，K表示更新时所使用的权重参数\n",
    "\n",
    "看起来与LMS有点类似，但是更新公式确实是有所不同。那究竟有什么实质性的差异呢？\n",
    "\n",
    "Seems to be RLS -- Recursive Least Squares\n",
    "\n",
    "Actually it is Recursive Least Square, with M = 1, and lambda = 1. 因为M = 1, 所以所有的矩阵运算都退化为标量运算了。"
   ]
  },
  {
   "cell_type": "code",
   "execution_count": null,
   "metadata": {},
   "outputs": [],
   "source": [
    "for j in range(0, len(t)-1):    \n",
    "    K[j+1]   = P[j] * phi[j+1] / (1 + phi.T[j+1] * P[j] * phi[j+1] )\n",
    "    \n",
    "    err[j+1] = (y[j+1] - phi[j+1] * g[j])\n",
    "    \n",
    "    g[j+1] = g[j] + K[j+1] * err[j+1]\n",
    "    \n",
    "    P[j+1] = (1 - K[j+1]*phi.T[j+1]) * P[j]\n",
    "    "
   ]
  },
  {
   "cell_type": "code",
   "execution_count": null,
   "metadata": {},
   "outputs": [],
   "source": [
    "#print(phi)\n",
    "print(K)\n",
    "print(g)\n",
    "print(P)"
   ]
  },
  {
   "cell_type": "code",
   "execution_count": null,
   "metadata": {},
   "outputs": [],
   "source": [
    "plt.plot(g)\n",
    "plt.show()"
   ]
  },
  {
   "cell_type": "markdown",
   "metadata": {},
   "source": [
    "Take Home Message:\n",
    "1. No such thing as “bad” data\n",
    "2. Recursive method can be easily implemented as an algorithm\n",
    "3. Rate to converge to “good” answer depends on “best guess” I.e. start up costs"
   ]
  },
  {
   "cell_type": "markdown",
   "metadata": {},
   "source": [
    "# The fourth approach -- kalman filtering\n",
    "\n",
    "[2019-11-03] How to apply kalman filtering to this problem? 这个问题本身是要进行参数估计，根据测量值估计重力常数。但是卡尔曼滤波是用于滤波（平滑）或预测的？How to reformulate the problem to a kalman filtering problem? 建立状态方程事实上是需要基于已知的（先验的）重力常数的，先假定prior for gravity constant, then based on the measurements, estimate the posteriori for gravity constant?\n",
    "\n",
    "In this free falling body problem, the state vector includes two element: falling distance, velocity. "
   ]
  },
  {
   "cell_type": "code",
   "execution_count": null,
   "metadata": {},
   "outputs": [],
   "source": [
    "plt.rcParams['figure.figsize'] = (10, 8)"
   ]
  },
  {
   "cell_type": "code",
   "execution_count": null,
   "metadata": {},
   "outputs": [],
   "source": []
  }
 ],
 "metadata": {
  "kernelspec": {
   "display_name": "Python 3",
   "language": "python",
   "name": "python3"
  },
  "language_info": {
   "codemirror_mode": {
    "name": "ipython",
    "version": 3
   },
   "file_extension": ".py",
   "mimetype": "text/x-python",
   "name": "python",
   "nbconvert_exporter": "python",
   "pygments_lexer": "ipython3",
   "version": "3.6.5"
  }
 },
 "nbformat": 4,
 "nbformat_minor": 2
}
