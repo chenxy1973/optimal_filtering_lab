{
 "cells": [
  {
   "cell_type": "markdown",
   "metadata": {},
   "source": [
    "Reference:\n",
    "    \n",
    "    [1] mem640Lecture-Estimation.pdf"
   ]
  },
  {
   "cell_type": "code",
   "execution_count": 149,
   "metadata": {},
   "outputs": [],
   "source": [
    "import numpy as np\n",
    "import matplotlib.pyplot as plt"
   ]
  },
  {
   "cell_type": "code",
   "execution_count": 150,
   "metadata": {},
   "outputs": [],
   "source": [
    "t    = np.arange(1,20)\n",
    "#y    = np.array([8.49, 20.05, 50.65, 72.19, 129.85, 171.56])\n",
    "g_theory = 9.8\n",
    "mu, sigma = 0, 10 # mean and standard deviation\n",
    "s = np.random.normal(mu, sigma, len(t))\n",
    "y    = g_theory * (t * t)/2 + s"
   ]
  },
  {
   "cell_type": "code",
   "execution_count": 151,
   "metadata": {},
   "outputs": [
    {
     "name": "stdout",
     "output_type": "stream",
     "text": [
      "[ 1  2  3  4  5  6  7  8  9 10 11 12 13 14 15 16 17 18 19]\n",
      "[-1.55152832e+00  2.67328808e+01  4.20455448e+01  7.97217349e+01\n",
      "  1.41479223e+02  1.58338290e+02  2.40299986e+02  3.21889934e+02\n",
      "  4.15722429e+02  5.07779270e+02  5.92138242e+02  6.95983246e+02\n",
      "  8.27238153e+02  9.80091485e+02  1.11041983e+03  1.24927690e+03\n",
      "  1.40662918e+03  1.58940409e+03  1.75661053e+03]\n"
     ]
    }
   ],
   "source": [
    "print(t)\n",
    "print(y)"
   ]
  },
  {
   "cell_type": "markdown",
   "metadata": {},
   "source": [
    "# The first approach: naive averaging\n",
    "\n",
    "One approach: Calculate acceleration for each time instant and take average"
   ]
  },
  {
   "cell_type": "code",
   "execution_count": 152,
   "metadata": {},
   "outputs": [],
   "source": [
    "g = 2 * y / (t * t)\n",
    "g_mean = np.mean(g)"
   ]
  },
  {
   "cell_type": "code",
   "execution_count": 153,
   "metadata": {},
   "outputs": [
    {
     "name": "stdout",
     "output_type": "stream",
     "text": [
      "[-3.10305664 13.36644039  9.34345441  9.96521686 11.31833788  8.79657165\n",
      "  9.80816268 10.05906042 10.26475132 10.1555854   9.78740896  9.66643397\n",
      "  9.78980063 10.00093352  9.87039849  9.75997579  9.73445802  9.81113634\n",
      "  9.73191427] 9.37510444065773\n"
     ]
    }
   ],
   "source": [
    "print(g, g_mean)"
   ]
  },
  {
   "cell_type": "markdown",
   "metadata": {},
   "source": [
    "# The second approach – recast as a least squares problem\n",
    "\n",
    "As shown below, Least squares estimate of gravitational constant is quite good.\n"
   ]
  },
  {
   "cell_type": "code",
   "execution_count": 154,
   "metadata": {},
   "outputs": [
    {
     "name": "stdout",
     "output_type": "stream",
     "text": [
      "(19,)\n",
      "(19, 1)\n",
      "[[  0.5   2.    4.5   8.   12.5  18.   24.5  32.   40.5  50.   60.5  72.\n",
      "   84.5  98.  112.5 128.  144.5 162.  180.5]]\n"
     ]
    }
   ],
   "source": [
    "phi = t * t / 2\n",
    "print(phi.shape)\n",
    "phi = np.reshape(phi, (len(phi),1))\n",
    "print(phi.shape)\n",
    "print(phi.T)\n"
   ]
  },
  {
   "cell_type": "code",
   "execution_count": 155,
   "metadata": {},
   "outputs": [
    {
     "name": "stdout",
     "output_type": "stream",
     "text": [
      "(1, 1)\n",
      "[[140666.5]]\n"
     ]
    }
   ],
   "source": [
    "phi_cov = phi.T @ phi\n",
    "print(phi_cov.shape)\n",
    "print(phi_cov)"
   ]
  },
  {
   "cell_type": "code",
   "execution_count": 156,
   "metadata": {},
   "outputs": [
    {
     "name": "stdout",
     "output_type": "stream",
     "text": [
      "[9.79932534]\n"
     ]
    }
   ],
   "source": [
    "g_esti2 = (1/phi_cov) @ phi.T @ y\n",
    "print(g_esti2)"
   ]
  },
  {
   "cell_type": "markdown",
   "metadata": {},
   "source": [
    "# An extension to free falling body problem.\n",
    "\n",
    "Assuming y = a2 \\* x^2 + a1 \\* x + a0\n",
    "\n",
    "With measurment result y, estimate A = {a2, a1, a0}\n"
   ]
  },
  {
   "cell_type": "code",
   "execution_count": 157,
   "metadata": {},
   "outputs": [],
   "source": [
    "a2    = 1.52\n",
    "a1    = 2.33\n",
    "a0    = 7.49\n",
    "\n",
    "x    = np.arange(1,20)\n",
    "mu, sigma = 0, 1.01 # mean and standard deviation\n",
    "s = np.random.normal(mu, sigma, len(t))\n",
    "y    = a2 * (x * x) + a1 * x + a0 + s"
   ]
  },
  {
   "cell_type": "code",
   "execution_count": 158,
   "metadata": {},
   "outputs": [
    {
     "name": "stdout",
     "output_type": "stream",
     "text": [
      "[ 11.41110068  18.0224654   27.52997289  41.31101831  57.65439053\n",
      "  75.82162263  98.58661748 123.37392541 152.26897649 184.38461825\n",
      " 219.60702757 254.4979823  292.64585195 340.2858461  383.96821287\n",
      " 432.41924846 486.69678031 543.42885136 599.9152754 ]\n"
     ]
    },
    {
     "data": {
      "image/png": "[encoded data removed]",
      "text/plain": [
       "<Figure size 432x288 with 1 Axes>"
      ]
     },
     "metadata": {},
     "output_type": "display_data"
    }
   ],
   "source": [
    "print(y)\n",
    "plt.scatter(x,y)\n",
    "plt.show()"
   ]
  },
  {
   "cell_type": "code",
   "execution_count": 159,
   "metadata": {},
   "outputs": [
    {
     "name": "stdout",
     "output_type": "stream",
     "text": [
      "(19, 3)\n",
      "(3, 3) (3, 3) (3, 19) (19,)\n",
      "[[1.5103618 ]\n",
      " [2.53275625]\n",
      " [6.9480239 ]]\n"
     ]
    }
   ],
   "source": [
    "#print(x)\n",
    "phi_col0 = np.reshape((x*x).T, (len(x), 1))\n",
    "phi_col1 = np.reshape(x.T, (len(x), 1))\n",
    "phi_col2 = np.ones((len(x), 1))\n",
    "phi = np.concatenate( ( phi_col0, phi_col1, phi_col2 ), axis = 1)\n",
    "#print(phi_col0)\n",
    "print(phi.shape)\n",
    "\n",
    "phi_cov = phi.T @ phi\n",
    "phi_cov_inv = np.linalg.inv(phi_cov)\n",
    "print(phi_cov.shape, phi_cov_inv.shape, (phi.T).shape, y.shape)\n",
    "\n",
    "para_esti = (phi_cov_inv) @ phi.T @ np.reshape(y,(len(y),1))\n",
    "\n",
    "print(para_esti)"
   ]
  },
  {
   "cell_type": "code",
   "execution_count": 160,
   "metadata": {},
   "outputs": [
    {
     "name": "stdout",
     "output_type": "stream",
     "text": [
      "[[5.62666e+05 3.61000e+04 2.47000e+03]\n",
      " [3.61000e+04 2.47000e+03 1.90000e+02]\n",
      " [2.47000e+03 1.90000e+02 1.90000e+01]]\n",
      "[[ 7.37136960e-05 -1.47427392e-03  5.15995872e-03]\n",
      " [-1.47427392e-03  3.12398644e-02 -1.20743034e-01]\n",
      " [ 5.15995872e-03 -1.20743034e-01  5.89267286e-01]]\n",
      "[[ 1.00000000e+00 -1.04083409e-17  1.56125113e-17]\n",
      " [-6.30051566e-15  1.00000000e+00 -4.85722573e-16]\n",
      " [-5.96189764e-13  1.75415238e-14  1.00000000e+00]]\n"
     ]
    }
   ],
   "source": [
    "#print(phi)\n",
    "print(phi_cov)\n",
    "print(phi_cov_inv)\n",
    "print(phi_cov_inv @ phi_cov)"
   ]
  },
  {
   "cell_type": "markdown",
   "metadata": {},
   "source": [
    "# The third approach -- use recursion to update \n",
    "\n",
    "Least squares looks very good – but consider the following:\n",
    "\n",
    "Q1. What if all data is not immediately available?\n",
    "\n",
    "Q2. What if the sensor is noisy?\n",
    "\n",
    "Q3. What if the state model is questionable?\n",
    "\n",
    "以下仍然先回到自由落体运动问题。。。"
   ]
  },
  {
   "cell_type": "code",
   "execution_count": 168,
   "metadata": {},
   "outputs": [],
   "source": [
    "t    = np.arange(1,20)\n",
    "#y    = np.array([8.49, 20.05, 50.65, 72.19, 129.85, 171.56])\n",
    "g_theory = 9.8\n",
    "mu, sigma = 0, 10 # mean and standard deviation\n",
    "s = np.random.normal(mu, sigma, len(t))\n",
    "y    = g_theory * (t * t)/2 + s\n",
    "\n",
    "phi = t * t / 2\n",
    "K   = np.zeros((len(t),))\n",
    "P   = np.zeros((len(t),))\n",
    "g   = np.zeros((len(t),))\n",
    "err = np.zeros((len(t),))\n",
    "g[0] = y[1]\n",
    "P[0] = 1"
   ]
  },
  {
   "cell_type": "markdown",
   "metadata": {},
   "source": [
    "待估计参数以迭代的方式基于估计误差逐步更新，K表示更新时所使用的权重参数\n",
    "\n",
    "看起来与LMS有点类似，但是更新公式确实是有所不同。那究竟有什么实质性的差异呢？\n",
    "\n",
    "Seems to be RLS -- Recursive Least Squares\n",
    "\n",
    "Actually it is Recursive Least Square, with M = 1, and lambda = 1. 因为M = 1, 所以所有的矩阵运算都退化为标量运算了。"
   ]
  },
  {
   "cell_type": "code",
   "execution_count": 170,
   "metadata": {},
   "outputs": [],
   "source": [
    "for j in range(0, len(t)-1):    \n",
    "    K[j+1]   = P[j] * phi[j+1] / (1 + phi.T[j+1] * P[j] * phi[j+1] )\n",
    "    \n",
    "    err[j+1] = (y[j+1] - phi[j+1] * g[j])\n",
    "    \n",
    "    g[j+1] = g[j] + K[j+1] * err[j+1]\n",
    "    \n",
    "    P[j+1] = (1 - K[j+1]*phi.T[j+1]) * P[j]\n",
    "    "
   ]
  },
  {
   "cell_type": "code",
   "execution_count": 171,
   "metadata": {},
   "outputs": [
    {
     "name": "stdout",
     "output_type": "stream",
     "text": [
      "[0.         0.4        0.17821782 0.08963585 0.0509165  0.03160667\n",
      " 0.02094465 0.01458689 0.01056338 0.00789391 0.00605348 0.00474363\n",
      " 0.0037861  0.00306993 0.00252362 0.00209964 0.00176558 0.00149879\n",
      " 0.00128317]\n",
      "[10.61863491  6.37118095 10.49156114  9.11892501 10.18700447  9.97518666\n",
      "  9.29369302  9.69633487  9.77614921  9.80928929  9.91234421  9.93153515\n",
      "  9.87965901  9.85282964  9.85767704  9.82246991  9.82571475  9.81819461\n",
      "  9.8246718 ]\n",
      "[1.00000000e+00 2.00000000e-01 3.96039604e-02 1.12044818e-02\n",
      " 4.07331976e-03 1.75592625e-03 8.54883522e-04 4.55840456e-04\n",
      " 2.60824204e-04 1.57878118e-04 1.00057533e-04 6.58837481e-05\n",
      " 4.48058785e-05 3.13258673e-05 2.24322127e-05 1.64034595e-05\n",
      " 1.22185159e-05 9.25180642e-06 7.10897526e-06]\n"
     ]
    }
   ],
   "source": [
    "#print(phi)\n",
    "print(K)\n",
    "print(g)\n",
    "print(P)"
   ]
  },
  {
   "cell_type": "code",
   "execution_count": 173,
   "metadata": {},
   "outputs": [
    {
     "data": {
      "image/png": "[encoded data removed]",
      "text/plain": [
       "<Figure size 432x288 with 1 Axes>"
      ]
     },
     "metadata": {},
     "output_type": "display_data"
    }
   ],
   "source": [
    "plt.plot(g)\n",
    "plt.show()"
   ]
  },
  {
   "cell_type": "code",
   "execution_count": null,
   "metadata": {},
   "outputs": [],
   "source": []
  },
  {
   "cell_type": "code",
   "execution_count": null,
   "metadata": {},
   "outputs": [],
   "source": []
  }
 ],
 "metadata": {
  "kernelspec": {
   "display_name": "Python 3",
   "language": "python",
   "name": "python3"
  },
  "language_info": {
   "codemirror_mode": {
    "name": "ipython",
    "version": 3
   },
   "file_extension": ".py",
   "mimetype": "text/x-python",
   "name": "python",
   "nbconvert_exporter": "python",
   "pygments_lexer": "ipython3",
   "version": "3.6.5"
  }
 },
 "nbformat": 4,
 "nbformat_minor": 2
}
