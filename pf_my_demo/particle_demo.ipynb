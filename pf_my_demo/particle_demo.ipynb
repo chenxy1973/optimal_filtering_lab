{
 "cells": [
  {
   "cell_type": "markdown",
   "metadata": {},
   "source": [
    "# Update History:\n",
    "\n",
    "(1) Created in 2019-11-01 by chenxy. This notebook demo for particle filter is modified from: https://github.com/mjl/particle_filter_demo. Also the copy of the original demo can be found at ..\\pf_mjl_demo"
   ]
  },
  {
   "cell_type": "code",
   "execution_count": null,
   "metadata": {},
   "outputs": [],
   "source": [
    "from __future__ import absolute_import\n",
    "\n",
    "import random\n",
    "import math\n",
    "import bisect"
   ]
  },
  {
   "cell_type": "code",
   "execution_count": null,
   "metadata": {},
   "outputs": [],
   "source": [
    "import utilities\n",
    "from utilities import PARTICLE_COUNT\n",
    "from draw import Maze"
   ]
  },
  {
   "cell_type": "code",
   "execution_count": null,
   "metadata": {},
   "outputs": [],
   "source": [
    "print(utilities.w_gauss(1,2))"
   ]
  },
  {
   "cell_type": "code",
   "execution_count": null,
   "metadata": {},
   "outputs": [],
   "source": [
    "from Particle import Particle\n",
    "#from Robot import Robot\n",
    "from Robot import Robot"
   ]
  },
  {
   "cell_type": "code",
   "execution_count": null,
   "metadata": {},
   "outputs": [],
   "source": [
    "maze_data = ( ( 2, 0, 1, 0, 0 ),\n",
    "              ( 0, 0, 0, 0, 1 ),\n",
    "              ( 1, 1, 1, 0, 0 ),\n",
    "              ( 1, 0, 0, 0, 0 ),\n",
    "              ( 0, 0, 2, 0, 1 ))"
   ]
  },
  {
   "cell_type": "code",
   "execution_count": null,
   "metadata": {},
   "outputs": [],
   "source": [
    "maze_data = ( ( 1, 1, 0, 0, 2, 0, 0, 0, 0, 1 ),\n",
    "              ( 1, 2, 0, 0, 1, 1, 0, 0, 0, 0 ),\n",
    "              ( 0, 1, 1, 0, 0, 0, 0, 1, 0, 1 ),\n",
    "              ( 0, 0, 0, 0, 1, 0, 0, 1, 1, 2 ),\n",
    "              ( 1, 1, 0, 1, 1, 2, 0, 0, 1, 0 ),\n",
    "              ( 1, 1, 1, 0, 1, 1, 1, 0, 2, 0 ),\n",
    "              ( 2, 0, 0, 0, 0, 0, 0, 0, 0, 0 ),\n",
    "              ( 1, 2, 0, 1, 1, 1, 1, 0, 0, 0 ),\n",
    "              ( 0, 0, 0, 0, 1, 0, 0, 0, 1, 0 ),\n",
    "              ( 0, 0, 1, 0, 0, 2, 1, 1, 1, 0 ))"
   ]
  },
  {
   "cell_type": "code",
   "execution_count": null,
   "metadata": {},
   "outputs": [],
   "source": [
    "\n",
    "ROBOT_HAS_COMPASS = True # Does the robot know where north is? If so, it\n",
    "# makes orientation a lot easier since it knows which direction it is facing.\n",
    "# If not -- and that is really fascinating -- the particle filter can work\n",
    "# out its heading too, it just takes more particles and more time. Try this\n",
    "# with 3000+ particles, it obviously needs lots more hypotheses as a particle\n",
    "# now has to correctly match not only the position but also the heading."
   ]
  },
  {
   "cell_type": "code",
   "execution_count": null,
   "metadata": {},
   "outputs": [],
   "source": [
    "world = Maze(maze_data)"
   ]
  },
  {
   "cell_type": "code",
   "execution_count": null,
   "metadata": {},
   "outputs": [],
   "source": [
    "world"
   ]
  },
  {
   "cell_type": "code",
   "execution_count": null,
   "metadata": {},
   "outputs": [],
   "source": [
    "world.draw()"
   ]
  },
  {
   "cell_type": "code",
   "execution_count": null,
   "metadata": {},
   "outputs": [],
   "source": [
    "# initial distribution assigns each particle an equal probability\n",
    "particles = Particle.create_random(PARTICLE_COUNT, world)\n",
    "robbie = Robot(world)"
   ]
  },
  {
   "cell_type": "code",
   "execution_count": null,
   "metadata": {},
   "outputs": [],
   "source": [
    "print(robbie)"
   ]
  },
  {
   "cell_type": "code",
   "execution_count": null,
   "metadata": {},
   "outputs": [],
   "source": [
    "while True:\n",
    "    # Read robbie's sensor\n",
    "    r_d = robbie.read_sensor(world)\n",
    "\n",
    "    # Update particle weight according to how good every particle matches\n",
    "    # robbie's sensor reading\n",
    "    for p in particles:\n",
    "        if world.is_free(*p.xy):\n",
    "            p_d = p.read_sensor(world)\n",
    "            p.w = utilities.w_gauss(r_d, p_d)\n",
    "        else:\n",
    "            p.w = 0\n",
    "\n",
    "    # ---------- Try to find current best estimate for display ----------\n",
    "    m_x, m_y, m_confident = utilities.compute_mean_point(particles, world)\n",
    "\n",
    "    # ---------- Show current state ----------\n",
    "    world.show_particles(particles)\n",
    "    world.show_mean(m_x, m_y, m_confident)\n",
    "    world.show_robot(robbie)\n",
    "\n",
    "    # ---------- Shuffle particles ----------\n",
    "    new_particles = []\n",
    "\n",
    "    # Normalise weights\n",
    "    nu = sum(p.w for p in particles)\n",
    "    if nu:\n",
    "        for p in particles:\n",
    "            p.w = p.w / nu\n",
    "\n",
    "    # create a weighted distribution, for fast picking\n",
    "    dist = utilities.WeightedDistribution(particles)\n",
    "\n",
    "    for _ in particles:\n",
    "        p = dist.pick()\n",
    "        if p is None:  # No pick b/c all totally improbable\n",
    "            new_particle = Particle.create_random(1, world)[0]\n",
    "        else:\n",
    "            new_particle = Particle(p.x, p.y,\n",
    "                    heading=robbie.h if ROBOT_HAS_COMPASS else p.h,\n",
    "                    noisy=True)\n",
    "        new_particles.append(new_particle)\n",
    "\n",
    "    particles = new_particles\n",
    "\n",
    "    # ---------- Move things ----------\n",
    "    old_heading = robbie.h\n",
    "    robbie.move(world)\n",
    "    d_h = robbie.h - old_heading\n",
    "\n",
    "    # Move particles according to my belief of movement (this may\n",
    "    # be different than the real movement, but it's all I got)\n",
    "    for p in particles:\n",
    "        p.h += d_h # in case robot changed heading, swirl particle heading too\n",
    "        p.advance_by(robbie.speed)"
   ]
  },
  {
   "cell_type": "code",
   "execution_count": null,
   "metadata": {},
   "outputs": [],
   "source": []
  }
 ],
 "metadata": {
  "kernelspec": {
   "display_name": "Python 3",
   "language": "python",
   "name": "python3"
  },
  "language_info": {
   "codemirror_mode": {
    "name": "ipython",
    "version": 3
   },
   "file_extension": ".py",
   "mimetype": "text/x-python",
   "name": "python",
   "nbconvert_exporter": "python",
   "pygments_lexer": "ipython3",
   "version": "3.6.5"
  }
 },
 "nbformat": 4,
 "nbformat_minor": 2
}
